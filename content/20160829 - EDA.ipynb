{
 "cells": [
  {
   "cell_type": "markdown",
   "metadata": {},
   "source": [
    "![](http://pbpython.com/images/sns_header.png)"
   ]
  },
  {
   "cell_type": "markdown",
   "metadata": {},
   "source": [
    "# Visual Data Literacy - 02 - Statistical Plotting"
   ]
  },
  {
   "cell_type": "code",
   "execution_count": null,
   "metadata": {
    "collapsed": false
   },
   "outputs": [],
   "source": [
    "# %load utils/imports.py\n",
    "import numpy as np\n",
    "import pandas as pd\n",
    "\n",
    "from utils import *\n",
    "from utils.styles import *\n",
    "from utils.plotting import *\n",
    "from utils.demo import *"
   ]
  },
  {
   "cell_type": "markdown",
   "metadata": {},
   "source": [
    "## 04 Challenge - Perform EDA on your own datasets"
   ]
  },
  {
   "cell_type": "markdown",
   "metadata": {},
   "source": [
    "Each block has instructions on which steps to follow in your exploration. Instructions are either `CODE` or `ANSWER` blocks. Please anser the former in code, and the latter in writing. Bullet points are fine, as long as you reveal your thought processes as much as the outcomes they produce.  "
   ]
  },
  {
   "cell_type": "markdown",
   "metadata": {},
   "source": [
    "You've been split up into 5 'areas of interest' in the dataset. Each area of interest refers to a set of attributes from the `Summary` table which you will be looking at for this assignment.\n",
    "\n",
    "* Group A (personal data) : Jeffrey & Terrence \n",
    "* Group B (phone data) : Sparrow\n",
    "* Group C (sms logs data) : Stanley\n",
    "* Group D (3rd party data) : Noah\n",
    "* Group E (derived data) : Jazz\n",
    "\n",
    "There are also 47 columns which are available to _everyone_ these are marked as 'all' in the CSV.\n",
    "\n",
    "These are individual assignments, and so we are expecting everyone to attempt them alone first - of course ask your team mates and us for help on ideas, syntax or if you get stuck! \n",
    "\n",
    "The assignment is due on **Thursday, 4 August**. I will review it on Friday and get the feedback to you on Monday.\n"
   ]
  },
  {
   "cell_type": "markdown",
   "metadata": {},
   "source": [
    "The columns for your consideration are (fill in the `your_group` variable):"
   ]
  },
  {
   "cell_type": "code",
   "execution_count": null,
   "metadata": {
    "collapsed": false
   },
   "outputs": [],
   "source": [
    "your_group = 'A' # your assigned group i.e. {A,B,C,D,E}"
   ]
  },
  {
   "cell_type": "code",
   "execution_count": null,
   "metadata": {
    "collapsed": false
   },
   "outputs": [],
   "source": [
    "pd.set_option('display.max_rows',120)\n",
    "df = pd.read_csv('groupings.csv')\n",
    "df.ix[:, 0 + \"ABCDE\".index(your_group) * 2]"
   ]
  },
  {
   "cell_type": "markdown",
   "metadata": {},
   "source": [
    "## Warming Up!"
   ]
  },
  {
   "cell_type": "markdown",
   "metadata": {},
   "source": [
    "The `CSV` that we gave you isn't in the _tidy_ format."
   ]
  },
  {
   "cell_type": "code",
   "execution_count": null,
   "metadata": {
    "collapsed": true
   },
   "outputs": [],
   "source": [
    "# ANSWER : What is wrong with it, and how could you fix it?"
   ]
  },
  {
   "cell_type": "code",
   "execution_count": null,
   "metadata": {
    "collapsed": false
   },
   "outputs": [],
   "source": [
    "# CODE : Convert groupings.csv into a tidy data format"
   ]
  },
  {
   "cell_type": "markdown",
   "metadata": {},
   "source": [
    "## Data Wrangling"
   ]
  },
  {
   "cell_type": "markdown",
   "metadata": {},
   "source": [
    "Data Wrangling is the process of cleaning and unifying messy and complex data sets. This process includes manually converting/mapping data from one raw form into another format to allow for more convenient consumption and organization of the data. In the following steps you'll be wrangling your data into a usable format."
   ]
  },
  {
   "cell_type": "markdown",
   "metadata": {},
   "source": [
    "### Data Loading"
   ]
  },
  {
   "cell_type": "code",
   "execution_count": null,
   "metadata": {
    "collapsed": true
   },
   "outputs": [],
   "source": [
    "# CODE : Load an extract of the data you are going to be analysing"
   ]
  },
  {
   "cell_type": "code",
   "execution_count": null,
   "metadata": {
    "collapsed": true
   },
   "outputs": [],
   "source": [
    "# ANSWER : What rationalisation did you use when deciding the size of your extract?"
   ]
  },
  {
   "cell_type": "markdown",
   "metadata": {},
   "source": [
    "### From raw data to technically correct data"
   ]
  },
  {
   "cell_type": "markdown",
   "metadata": {},
   "source": [
    "With data that are technically correct, we understand a data set where\n",
    "each value:\n",
    "\n",
    "1. can be directly recognized as belonging to a certain variable;\n",
    "2. is stored in a data type that represents the value domain of the real-world variable.\n",
    "\n",
    "In other words, for each unit, a text variable should be stored as text, a numeric variable as a number, and so on, and all this in a format that is consistent across the data set."
   ]
  },
  {
   "cell_type": "code",
   "execution_count": null,
   "metadata": {
    "collapsed": true
   },
   "outputs": [],
   "source": [
    "# CODE : Transform all attributes in your dataset, from raw data to technically correct data."
   ]
  },
  {
   "cell_type": "code",
   "execution_count": null,
   "metadata": {
    "collapsed": true
   },
   "outputs": [],
   "source": [
    "# CODE : Is there any string normalisation that needs to be applied to your attributes?"
   ]
  },
  {
   "cell_type": "markdown",
   "metadata": {},
   "source": [
    "### From technically correct data to consistent data"
   ]
  },
  {
   "cell_type": "markdown",
   "metadata": {},
   "source": [
    "Consistent data are technically correct data that are fit for statistical analysis. They are data in\n",
    "which missing values, special values, (obvious) errors and outliers are either removed, corrected\n",
    "or imputed. The data are consistent with constraints based on real-world knowledge about the\n",
    "subject that the data describe."
   ]
  },
  {
   "cell_type": "markdown",
   "metadata": {},
   "source": [
    "The process towards consistent data always involves the following three steps:\n",
    "1. Detection of an inconsistency. That is, one establishes which constraints are violated. For example, an age variable is constrained to non-negative values.\n",
    "2. Selection of the field or fields causing the inconsistency. This is trivial in the case of a univariate demand as in the previous step, but may be more cumbersome when cross-variable relations are expected to hold. For example the marital status of a child must be unmarried. In the case of a violation it is not immediately clear whether age, marital status or both are wrong.\n",
    "3. Correction of the fields that are deemed erroneous by the selection method. This may be done through deterministic (model-based) or stochastic methods."
   ]
  },
  {
   "cell_type": "code",
   "execution_count": null,
   "metadata": {
    "collapsed": true
   },
   "outputs": [],
   "source": [
    "# CODE : Transform all attributes in your dataset, from technically correct to consistent data"
   ]
  },
  {
   "cell_type": "code",
   "execution_count": null,
   "metadata": {
    "collapsed": true
   },
   "outputs": [],
   "source": [
    "# CODE : Use visualisation to validate your transformations in the previous step"
   ]
  },
  {
   "cell_type": "code",
   "execution_count": null,
   "metadata": {
    "collapsed": true
   },
   "outputs": [],
   "source": [
    "# ANSWER : For which of the attributes did you not have enough information to decide how to make it consistent?\n",
    "#          Could you think of ways in which triangulating with other attributes could help?"
   ]
  },
  {
   "cell_type": "markdown",
   "metadata": {},
   "source": [
    "## Seaborn"
   ]
  },
  {
   "cell_type": "markdown",
   "metadata": {},
   "source": [
    "Seaborn is an excellent resource for common regression and distribution plots, but where Seaborn really shines is in its ability to visualize many different features at once. Using Seaborn's `factorplot`, `pairplot`, and `jointgrid`, explore your dataset and develop the following visualisations."
   ]
  },
  {
   "cell_type": "markdown",
   "metadata": {},
   "source": [
    "### Visualizing Distribution with Seaborn"
   ]
  },
  {
   "cell_type": "markdown",
   "metadata": {},
   "source": [
    "When dealing with a set of data, often the first thing you'll want to do is get a sense for how the variables are distributed."
   ]
  },
  {
   "cell_type": "code",
   "execution_count": null,
   "metadata": {
    "collapsed": true
   },
   "outputs": [],
   "source": [
    "# CODE : Plot the Univariate distirbutions or the attributes you are interested in exploring. Make sure that the \n",
    "#        graphs are readable, i.e. they shouldn't be so small, dense or cluttered, that you can't do any analysis\n",
    "#        on them."
   ]
  },
  {
   "cell_type": "code",
   "execution_count": null,
   "metadata": {
    "collapsed": true
   },
   "outputs": [],
   "source": [
    "# ANSWER : Seeing the distributions of your datasets, what are 5 characteristics or phenomena that you weren't\n",
    "#          expecting to see and would possible need to have a closer look at?"
   ]
  },
  {
   "cell_type": "code",
   "execution_count": null,
   "metadata": {
    "collapsed": true
   },
   "outputs": [],
   "source": [
    "# CODE : Select the attributes which are of interest to you and plot the pairwise relationships between them."
   ]
  },
  {
   "cell_type": "code",
   "execution_count": null,
   "metadata": {
    "collapsed": true
   },
   "outputs": [],
   "source": [
    "# ANSWER : What are the three most important take-aways?"
   ]
  },
  {
   "cell_type": "markdown",
   "metadata": {},
   "source": [
    "### Visualizing linear relationships"
   ]
  },
  {
   "cell_type": "markdown",
   "metadata": {},
   "source": [
    "Your datasets contain multiple quantitative variables, and the goal of our analysis is to relate those variables to each other. It can be very helpful to use statistical models to estimate a simple relationship between two noisy sets of observations. You'll be using linear regression here to explore those relationships."
   ]
  },
  {
   "cell_type": "code",
   "execution_count": null,
   "metadata": {
    "collapsed": true
   },
   "outputs": [],
   "source": [
    "# ANSWER : What's the difference between a `regplot` and a `lmplot`, when do you use which one?"
   ]
  },
  {
   "cell_type": "markdown",
   "metadata": {},
   "source": [
    "Based on the pair plot you've run in the previous step, select one attribute which you want to treat as target variable for your analysis here."
   ]
  },
  {
   "cell_type": "code",
   "execution_count": null,
   "metadata": {
    "collapsed": true
   },
   "outputs": [],
   "source": [
    "# CODE : Find out how strongly each of your most promising attributes correlate with your chosen attribute.\n",
    "#       Try at least a dozen from the shared attributes, and a dozen from your area of interest.    "
   ]
  },
  {
   "cell_type": "code",
   "execution_count": null,
   "metadata": {
    "collapsed": true
   },
   "outputs": [],
   "source": [
    "# ANSWER : What can you learn by looking at these graphs?"
   ]
  },
  {
   "cell_type": "code",
   "execution_count": null,
   "metadata": {
    "collapsed": true
   },
   "outputs": [],
   "source": [
    "# CODE : Explore the residuals of your selected attributes."
   ]
  },
  {
   "cell_type": "code",
   "execution_count": null,
   "metadata": {
    "collapsed": true
   },
   "outputs": [],
   "source": [
    "# ANSWER : Which of the residual plots suggest that there is a 'hidden parameter' which you haven't accounted for?"
   ]
  },
  {
   "cell_type": "code",
   "execution_count": null,
   "metadata": {
    "collapsed": true
   },
   "outputs": [],
   "source": [
    "# CODE : Explore what happens when you use high order polynomials."
   ]
  },
  {
   "cell_type": "code",
   "execution_count": null,
   "metadata": {
    "collapsed": true
   },
   "outputs": [],
   "source": [
    "# ANSWER : What can you learn by looking at these graphs?"
   ]
  },
  {
   "cell_type": "markdown",
   "metadata": {},
   "source": [
    "### Plotting with categorical data"
   ]
  },
  {
   "cell_type": "markdown",
   "metadata": {},
   "source": [
    "It's useful to divide seaborn's categorical plots into three groups: those that **show each observation at each level** of the categorical variable, those that **show an abstract representation** of each distribution of observations, and those that apply a statistical estimation to **show a measure of central tendency** and confidence interval."
   ]
  },
  {
   "cell_type": "code",
   "execution_count": null,
   "metadata": {
    "collapsed": true
   },
   "outputs": [],
   "source": [
    "# ANSWER : Since there are these three different types of plots - what are the advantages / disadvantages of each?"
   ]
  },
  {
   "cell_type": "code",
   "execution_count": null,
   "metadata": {
    "collapsed": true
   },
   "outputs": [],
   "source": [
    "# CODE : Filter our your categorical attributes from your dataframe."
   ]
  },
  {
   "cell_type": "code",
   "execution_count": null,
   "metadata": {
    "collapsed": true
   },
   "outputs": [],
   "source": [
    "# CODE : Explore those categorical attributes in scatterplots."
   ]
  },
  {
   "cell_type": "code",
   "execution_count": null,
   "metadata": {
    "collapsed": true
   },
   "outputs": [],
   "source": [
    "# ANSWER : What do you see when you plot those attributes against 'platforms`, `gender`?"
   ]
  },
  {
   "cell_type": "code",
   "execution_count": null,
   "metadata": {
    "collapsed": true
   },
   "outputs": [],
   "source": [
    "# CODE : Explore the categorical attributes in your area of interest through boxplots."
   ]
  },
  {
   "cell_type": "code",
   "execution_count": null,
   "metadata": {
    "collapsed": true
   },
   "outputs": [],
   "source": [
    "# ANSWER : What can you say about the outliers in your datasets?"
   ]
  },
  {
   "cell_type": "markdown",
   "metadata": {},
   "source": [
    "### Plotting on data-aware grids\n"
   ]
  },
  {
   "cell_type": "markdown",
   "metadata": {},
   "source": [
    "When exploring medium-dimensional data, a useful approach is to draw multiple instances of the same plot on different subsets of your dataset. Since your dataset has over a hundred columns, it makes sense to plot on data-aware grids."
   ]
  },
  {
   "cell_type": "code",
   "execution_count": null,
   "metadata": {
    "collapsed": true
   },
   "outputs": [],
   "source": [
    "# CODE : For your most interesting linear relationships you found, see what plotting them against some of your\n",
    "#        most interesting categorical variables reveal.            "
   ]
  },
  {
   "cell_type": "code",
   "execution_count": null,
   "metadata": {
    "collapsed": true
   },
   "outputs": [],
   "source": [
    "# ANSWER : The more attributes / dimensions you add to a plot, the more complex it becomes,\n",
    "#          what are different ways in which you can visualise an additional dimension in your graph? \n",
    "#          Name 4, other than 'X' and 'Y' coordinates."
   ]
  },
  {
   "cell_type": "code",
   "execution_count": null,
   "metadata": {
    "collapsed": true
   },
   "outputs": [],
   "source": [
    "# CODE : Create a graph representing 5 dimensions of your choice."
   ]
  },
  {
   "cell_type": "markdown",
   "metadata": {},
   "source": [
    "### Open Exploration"
   ]
  },
  {
   "cell_type": "markdown",
   "metadata": {},
   "source": [
    "Now that you have a good foundational understanding of your dataset, it's time to go out and explore on your own!"
   ]
  },
  {
   "cell_type": "code",
   "execution_count": null,
   "metadata": {
    "collapsed": true
   },
   "outputs": [],
   "source": [
    "# ANSWER : What are three questions that you have regarding relationships in your dataset that you have following the\n",
    "#          plots you've made in the previous steps? "
   ]
  },
  {
   "cell_type": "code",
   "execution_count": null,
   "metadata": {
    "collapsed": true
   },
   "outputs": [],
   "source": [
    "# CODE : Attempt to answer those three questions with visualisations"
   ]
  }
 ],
 "metadata": {
  "kernelspec": {
   "display_name": "Python 3",
   "language": "python",
   "name": "python3"
  },
  "language_info": {
   "codemirror_mode": {
    "name": "ipython",
    "version": 3
   },
   "file_extension": ".py",
   "mimetype": "text/x-python",
   "name": "python",
   "nbconvert_exporter": "python",
   "pygments_lexer": "ipython3",
   "version": "3.5.2"
  }
 },
 "nbformat": 4,
 "nbformat_minor": 0
}
